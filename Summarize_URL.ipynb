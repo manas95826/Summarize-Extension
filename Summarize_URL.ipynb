{
  "nbformat": 4,
  "nbformat_minor": 0,
  "metadata": {
    "colab": {
      "provenance": [],
      "gpuType": "T4",
      "authorship_tag": "ABX9TyNcfc7VUB8KJ7YFNO/JgpjK",
      "include_colab_link": true
    },
    "kernelspec": {
      "name": "python3",
      "display_name": "Python 3"
    },
    "language_info": {
      "name": "python"
    },
    "accelerator": "GPU"
  },
  "cells": [
    {
      "cell_type": "markdown",
      "metadata": {
        "id": "view-in-github",
        "colab_type": "text"
      },
      "source": [
        "<a href=\"https://colab.research.google.com/github/manas95826/Summarize-Extension/blob/main/Summarize_URL.ipynb\" target=\"_parent\"><img src=\"https://colab.research.google.com/assets/colab-badge.svg\" alt=\"Open In Colab\"/></a>"
      ]
    },
    {
      "cell_type": "code",
      "source": [
        "!pip install -q openai langchain unstructured tiktoken"
      ],
      "metadata": {
        "colab": {
          "base_uri": "https://localhost:8080/"
        },
        "id": "bbM8_26x8hI3",
        "outputId": "84fa0966-c51b-4ee8-b7de-39e912cc5d0e"
      },
      "execution_count": 1,
      "outputs": [
        {
          "output_type": "stream",
          "name": "stdout",
          "text": [
            "\u001b[2K     \u001b[90m━━━━━━━━━━━━━━━━━━━━━━━━━━━━━━━━━━━━━━━━\u001b[0m \u001b[32m227.4/227.4 kB\u001b[0m \u001b[31m4.3 MB/s\u001b[0m eta \u001b[36m0:00:00\u001b[0m\n",
            "\u001b[2K     \u001b[90m━━━━━━━━━━━━━━━━━━━━━━━━━━━━━━━━━━━━━━━━\u001b[0m \u001b[32m806.2/806.2 kB\u001b[0m \u001b[31m10.3 MB/s\u001b[0m eta \u001b[36m0:00:00\u001b[0m\n",
            "\u001b[2K     \u001b[90m━━━━━━━━━━━━━━━━━━━━━━━━━━━━━━━━━━━━━━━━\u001b[0m \u001b[32m1.8/1.8 MB\u001b[0m \u001b[31m14.2 MB/s\u001b[0m eta \u001b[36m0:00:00\u001b[0m\n",
            "\u001b[2K     \u001b[90m━━━━━━━━━━━━━━━━━━━━━━━━━━━━━━━━━━━━━━━━\u001b[0m \u001b[32m1.8/1.8 MB\u001b[0m \u001b[31m19.9 MB/s\u001b[0m eta \u001b[36m0:00:00\u001b[0m\n",
            "\u001b[2K     \u001b[90m━━━━━━━━━━━━━━━━━━━━━━━━━━━━━━━━━━━━━━━━\u001b[0m \u001b[32m75.6/75.6 kB\u001b[0m \u001b[31m6.9 MB/s\u001b[0m eta \u001b[36m0:00:00\u001b[0m\n",
            "\u001b[2K     \u001b[90m━━━━━━━━━━━━━━━━━━━━━━━━━━━━━━━━━━━━━━━━\u001b[0m \u001b[32m1.8/1.8 MB\u001b[0m \u001b[31m24.2 MB/s\u001b[0m eta \u001b[36m0:00:00\u001b[0m\n",
            "\u001b[2K     \u001b[90m━━━━━━━━━━━━━━━━━━━━━━━━━━━━━━━━━━━━━━━━\u001b[0m \u001b[32m252.4/252.4 kB\u001b[0m \u001b[31m23.8 MB/s\u001b[0m eta \u001b[36m0:00:00\u001b[0m\n",
            "\u001b[2K     \u001b[90m━━━━━━━━━━━━━━━━━━━━━━━━━━━━━━━━━━━━━━━━\u001b[0m \u001b[32m64.2/64.2 kB\u001b[0m \u001b[31m6.6 MB/s\u001b[0m eta \u001b[36m0:00:00\u001b[0m\n",
            "\u001b[2K     \u001b[90m━━━━━━━━━━━━━━━━━━━━━━━━━━━━━━━━━━━━━━━━\u001b[0m \u001b[32m421.5/421.5 kB\u001b[0m \u001b[31m26.4 MB/s\u001b[0m eta \u001b[36m0:00:00\u001b[0m\n",
            "\u001b[2K     \u001b[90m━━━━━━━━━━━━━━━━━━━━━━━━━━━━━━━━━━━━━━━━\u001b[0m \u001b[32m274.7/274.7 kB\u001b[0m \u001b[31m22.9 MB/s\u001b[0m eta \u001b[36m0:00:00\u001b[0m\n",
            "\u001b[2K     \u001b[90m━━━━━━━━━━━━━━━━━━━━━━━━━━━━━━━━━━━━━━━━\u001b[0m \u001b[32m981.5/981.5 kB\u001b[0m \u001b[31m26.3 MB/s\u001b[0m eta \u001b[36m0:00:00\u001b[0m\n",
            "\u001b[?25h  Preparing metadata (setup.py) ... \u001b[?25l\u001b[?25hdone\n",
            "\u001b[2K     \u001b[90m━━━━━━━━━━━━━━━━━━━━━━━━━━━━━━━━━━━━━━━━\u001b[0m \u001b[32m3.4/3.4 MB\u001b[0m \u001b[31m28.0 MB/s\u001b[0m eta \u001b[36m0:00:00\u001b[0m\n",
            "\u001b[2K     \u001b[90m━━━━━━━━━━━━━━━━━━━━━━━━━━━━━━━━━━━━━━━━\u001b[0m \u001b[32m49.4/49.4 kB\u001b[0m \u001b[31m4.6 MB/s\u001b[0m eta \u001b[36m0:00:00\u001b[0m\n",
            "\u001b[2K     \u001b[90m━━━━━━━━━━━━━━━━━━━━━━━━━━━━━━━━━━━━━━━━\u001b[0m \u001b[32m77.8/77.8 kB\u001b[0m \u001b[31m8.8 MB/s\u001b[0m eta \u001b[36m0:00:00\u001b[0m\n",
            "\u001b[2K     \u001b[90m━━━━━━━━━━━━━━━━━━━━━━━━━━━━━━━━━━━━━━━━\u001b[0m \u001b[32m58.3/58.3 kB\u001b[0m \u001b[31m6.4 MB/s\u001b[0m eta \u001b[36m0:00:00\u001b[0m\n",
            "\u001b[2K     \u001b[90m━━━━━━━━━━━━━━━━━━━━━━━━━━━━━━━━━━━━━━━━\u001b[0m \u001b[32m138.5/138.5 kB\u001b[0m \u001b[31m14.5 MB/s\u001b[0m eta \u001b[36m0:00:00\u001b[0m\n",
            "\u001b[?25h  Building wheel for langdetect (setup.py) ... \u001b[?25l\u001b[?25hdone\n"
          ]
        }
      ]
    },
    {
      "cell_type": "code",
      "source": [
        "from langchain_community.llms import HuggingFaceEndpoint\n",
        "from langchain.chains import LLMChain\n",
        "from langchain.prompts import PromptTemplate\n",
        "%pip install --upgrade --quiet huggingface_hub\n",
        "from langchain.docstore.document import Document\n",
        "from langchain.text_splitter import CharacterTextSplitter\n",
        "from langchain.llms.openai import OpenAI\n",
        "from langchain.chains.summarize import load_summarize_chain\n",
        "from langchain.document_loaders import UnstructuredURLLoader"
      ],
      "metadata": {
        "colab": {
          "base_uri": "https://localhost:8080/"
        },
        "id": "kSnphLOP3AXD",
        "outputId": "576ac342-06f1-4119-98b5-89dc32d24e7d"
      },
      "execution_count": 2,
      "outputs": [
        {
          "output_type": "stream",
          "name": "stdout",
          "text": [
            "\u001b[?25l     \u001b[90m━━━━━━━━━━━━━━━━━━━━━━━━━━━━━━━━━━━━━━━━\u001b[0m \u001b[32m0.0/346.2 kB\u001b[0m \u001b[31m?\u001b[0m eta \u001b[36m-:--:--\u001b[0m\r\u001b[2K     \u001b[91m━━━━━━━━━━━━━━━━━━━━━━\u001b[0m\u001b[90m╺\u001b[0m\u001b[90m━━━━━━━━━━━━━━━━━\u001b[0m \u001b[32m194.6/346.2 kB\u001b[0m \u001b[31m5.8 MB/s\u001b[0m eta \u001b[36m0:00:01\u001b[0m\r\u001b[2K     \u001b[90m━━━━━━━━━━━━━━━━━━━━━━━━━━━━━━━━━━━━━━━━\u001b[0m \u001b[32m346.2/346.2 kB\u001b[0m \u001b[31m5.9 MB/s\u001b[0m eta \u001b[36m0:00:00\u001b[0m\n",
            "\u001b[?25h"
          ]
        }
      ]
    },
    {
      "cell_type": "code",
      "source": [
        "urls = [\"https://tech.hindustantimes.com/tech/news/samsung-galaxy-s23-ultra-5g-now-available-with-an-enticing-price-cut-on-amazon-71709457508945.html\"]"
      ],
      "metadata": {
        "id": "_ZpIHbM88lsF"
      },
      "execution_count": 35,
      "outputs": []
    },
    {
      "cell_type": "code",
      "source": [
        "loader = UnstructuredURLLoader(urls=urls)"
      ],
      "metadata": {
        "id": "XHu3su0d8oIt"
      },
      "execution_count": 36,
      "outputs": []
    },
    {
      "cell_type": "code",
      "source": [
        "data = loader.load()"
      ],
      "metadata": {
        "id": "RHpKPtuV5zEH"
      },
      "execution_count": 37,
      "outputs": []
    },
    {
      "cell_type": "code",
      "source": [
        "chunk_size = 3000\n",
        "chunk_overlap = 200\n",
        "\n",
        "text_splitter = CharacterTextSplitter(\n",
        "    # separator = \"\\n\\n\"\n",
        "  chunk_size=chunk_size, # Maximum size of a chunk\n",
        "  chunk_overlap=chunk_overlap, # Maintain continuity, have some overlap of chunks\n",
        "  length_function=len, # Count number of characters to measure chunk size\n",
        ")\n",
        "texts = text_splitter.split_text( data[0].page_content)\n",
        "\n",
        "# Create Document objects for each text chunk\n",
        "docs = [Document(page_content=t) for t in texts[:]]"
      ],
      "metadata": {
        "id": "1dvoVh4x8vLV"
      },
      "execution_count": 38,
      "outputs": []
    },
    {
      "cell_type": "code",
      "source": [
        "docs"
      ],
      "metadata": {
        "colab": {
          "base_uri": "https://localhost:8080/"
        },
        "id": "P6fOAXVX9EMM",
        "outputId": "55160ba8-9403-46f9-b6a6-65467c7bc321"
      },
      "execution_count": 39,
      "outputs": [
        {
          "output_type": "execute_result",
          "data": {
            "text/plain": [
              "[Document(page_content=\"Saved Articles\\n\\nNews\\n\\nMobile        Mobile News     Mobile Reviews  Mobile Finder Mobile Comparison  Mobile Recommender\\n\\nLaptops PC         Laptops/PC News       Laptops/PC Reviews  Laptop Finder Laptop Comparison  Laptop Recommender\\n\\nGaming        Gaming News     Gaming Reviews\\n\\nTV         TV News       TV Reviews\\n\\nGadgets   Mobile Finder  Laptop Finder  Tablet Finder\\n\\nWearables          Wearables News  Wearables Reviews  Smart Watches  Fitness Bands\\n\\nCompare  Mobile Comparison Laptop Comparison Tablet Comparison\\n\\nPhotos\\n\\nVideos\\n\\nWeb Stories\\n\\nHow To\\n\\nMore  Samsung Event   Apple Event For You Home Appliances Brand Stories  Mobile Recommender  Laptop Recommender  Tablet Recommender\\n\\nAbout Us\\n\\nContact Us\\n\\nSitemap\\n\\nRSS\\n\\nTerms of Use\\n\\nPrivacy Policy\\n\\nCopyright © HT Media Limited\\n\\nAll rights reserved.\\n\\nHome\\n\\nTech\\n\\nNews    Samsung Galaxy S23 Ultra 5G now available with an enticing price cut on Amazon!\\n\\nSamsung Galaxy S23 Ultra 5G now available with an enticing price cut on Amazon!\\n\\nThe Samsung Galaxy S23 Ultra 5G has received a substantial price cut on Amazon, making it an attractive option for smartphone enthusiasts.\\n\\n\\nBy:\\n\\n\\nHT TECH\\n\\nMar 03 2024, 14:56 IST\\n\\nSamsung enthusiasts have a reason to rejoice as the Samsung Galaxy S23 Ultra 5G, boasting impressive features and specifications, has received a significant price cut on Amazon. With a staggering 27% discount, the smartphone is now available at Rs. 1,09,999, down from its original price of Rs. 1,49,999. Check out all the deals revealed by Amazon.\\n\\nOffers and Discounts\\n\\nAlso read: Samsung Galaxy S23 Ultra\\n\\nIn addition to the enticing price reduction on the Samsung Galaxy S23 Ultra 5G, customers can avail themselves of various offers and discounts to make their purchase even more economical. For instance, there's a bank offer providing up to Rs. 10,000 discount on select credit cards and HDFC Bank debit cards. Moreover, no-cost EMI options are available, allowing buyers to spread their payments conveniently. Partner offers, including the option to get GST invoices and save up to 28% on business purchases, further sweeten the deal. Additionally, customers can benefit from significant discounts when exchanging their old devices, with savings of up to Rs. 16,700.\\n\\nAbout the Product\\n\\nThe Samsung Galaxy S23 Ultra 5G comes packed with innovative features and a sleek design. One of its standout features is its eco-conscious design, utilizing recycled materials and offering fresh new colors inspired by nature. The smartphone also includes the signature S Pen, allowing users to effortlessly jot down notes and sketches without the need for traditional notebooks.\\n\\nWhen it comes to photography, the Galaxy S23 Ultra excels with its Pro-grade Camera, capable of capturing bright and clear photos even in low-light conditions. With a remarkable 200MP resolution on the Wide-angle Camera, users can enjoy stunningly detailed shots and explore new perspectives by zooming and cropping images.\"),\n",
              " Document(page_content=\"Furthermore, powered by the Snapdragon 8 Gen 2 Mobile Platform, the Galaxy S23 Ultra ensures smooth performance, making it ideal for mobile gaming enthusiasts. Despite its powerful capabilities, the device prioritizes battery efficiency, ensuring users can enjoy uninterrupted usage without frequent recharging.\\n\\nWith its impressive features, substantial price cut, and attractive offers, the Samsung Galaxy S23 Ultra 5G presents an irresistible proposition for those in search of a premium smartphone experience. Don't miss out on this opportunity to upgrade your smartphone game with Samsung's latest offering.\\n\\nhere.\\xa0\\xa0Found it interesting? Go on, and share it with everyone you know.\\n\\nhere. If you enjoyed reading this article, please forward it to your friends and family.\\n\\nhere:\\xa0\\xa0If you enjoyed reading this article, please forward it to your friends and family.\\n\\ntech news  and\\n\\nreviews , also keep up with us\\non\\n\\nWhatsapp channel,\\n\\nTwitter,\\n\\nFacebook,\\n\\nGoogle News, and\\n\\nInstagram. For our latest videos,\\nsubscribe to our\\n\\nYouTube channel.\\n\\n First Published Date: \\n\\n03 Mar, 14:54 IST\\n\\n\\nTags:\\n\\n\\nsamsung\\n\\n71709457508945\\n\\nNEXT ARTICLE BEGINS\\n\\nTips & Tricks\\n\\nOne Tech Tip: Don't use rice for your device. Here's how to dry out your smartphone\\n\\nBeware of QR code scams! Protect yourself from quishing attacks - know how\\n\\nGoogle Maps Glanceable directions rolling out now; Know the new benefits\\n\\nAI-powered Whispp app can recreate your voice, a boon for people with disabilities; Know how it works\\n\\nBought a new iPhone 15? Check these data transfer tips to ensure secure migration\\n\\nEditor’s Pick\\n\\nGoogle Gemini AI images disaster: What really happened with the image generator?\\n\\nApple Vision Pro: What do reviewers say about Apple’s first-ever spatial computer?\\n\\nAfter shocking Google Gemini AI images debacle, CEO Sundar Pichai talks tough to staff\\n\\nFirst Neuralink patient makes full recovery, can move PC cursor just by thinking, says Elon Musk\\n\\nSamsung Galaxy S24 Ultra Review: The best smartphone of the year… so far\\n\\nTrending Stories\\n\\nCES 2024: iPhone with a physical keyboard? If you have iPhone 14 Pro, iPhone 15 Pro, Clicks has a case\\n\\nDeepfake videos hit crypto world! Solana co-founder video surfaces on YouTube, X\\n\\nAt CES 2024, Nvidia may make big AI announcements, roll out GeForce RTX 40-series Super GPUs\\n\\nGoogle blocking data tracking of some 30 mn Chrome users; know why it is killing off cookies\\n\\nSam Altman reacts to Elon Musk's Grok Chatbot and it is simply awesome\\n\\nkeep up with tech\\n\\nFollow our Page\\n\\nFollow our Page\\n\\nFollow our Channel\\n\\nFollow our Channel\\n\\nGaming\\n\\nGTA 5 RP FiveM server devs celebrate 6-month period as part of Rockstar; reveal enhanced features\\n\\nGTA Online heist teased: Cluckin Bell Farm Raid trailer unveils action-packed missions\\n\\nRockstar Games faces backlash over GTA 6 development team's mandatory office return\\n\\nRockstar Games insider hints at GTA 6 release in early 2025, sparks excitement among fans\"),\n",
              " Document(page_content=\"Rockstar Games faces backlash over GTA 6 development team's mandatory office return\\n\\nRockstar Games insider hints at GTA 6 release in early 2025, sparks excitement among fans\\n\\nFree-to-play Call of Duty: Warzone Mobile game set to hit your smartphone on March 21\\n\\nTrending News\\n\\nCES 2024: iPhone with a physical keyboard? If you have iPhone 14 Pro, iPhone 15 Pro, Clicks has a case\\n\\nDeepfake videos hit crypto world! Solana co-founder video surfaces on YouTube, X\\n\\nAt CES 2024, Nvidia may make big AI announcements, roll out GeForce RTX 40-series Super GPUs\\n\\nGoogle blocking data tracking of some 30 mn Chrome users; know why it is killing off cookies\\n\\nSam Altman reacts to Elon Musk's Grok Chatbot and it is simply awesome\\n\\nTrending Gadgets\\n\\nMobiles\\n\\nLaptops\\n\\nTablets\\n\\nConnect with us:\\n\\nDownload the HT app to read\\n\\nTech and other stories:\\n\\nCategories \\n\\nLatest News\\n\\nTech News\\n\\nHome Appliances\\n\\nTV\\n\\nTV News\\n\\nTV Reviews\\n\\nHow To\\n\\nVideos\\n\\nPhotos\\n\\nGames\\n\\nWearables\\n\\nWearable News\\n\\nWearable Reviews\\n\\nLaptops\\n\\nLaptop News\\n\\nLaptops Review\\n\\nMobile\\n\\nMobile News\\n\\nMobile reviews\\n\\nPhones By Prices \\n\\nMobile Phones under 10000\\n\\nMobile Phones under 15000\\n\\nMobile Phones under 20000\\n\\nMobile Phones under 25000\\n\\nMobile Phones under 30000\\n\\nMobile Phones under 35000\\n\\nMobile Phones under 40000\\n\\nMobile Phones \\n\\nNokia\\n\\nApple\\n\\nOppo\\n\\nSamsung\\n\\nRealme\\n\\nOneplus\\n\\nXiaomi\\n\\nVivo\\n\\nLG\\n\\nMicromax\\n\\nSony\\n\\nLenovo\\n\\nTrending Topics \\n\\nIPhone 15 Price\\n\\nIPhone 15 plus\\n\\nIPhone 15 pro\\n\\nIPhone 15 Mini\\n\\nIPhone 15 Ultra\\n\\nBudget Mobile Phones\\n\\nBudget Smartphones\\n\\niPhone 13 Pro\\n\\niphone 15 Price update\\n\\nTRENDING HOW TO \\n\\nHow to remove password from PDF\\n\\nHow to Get Emojis on WhatsApp\\n\\nHow to delete your Facebook account permanently\\n\\nHow to restore your deleted Instagram posts\\n\\nHow to earn money on YouTube\\n\\nAbout Us\\n\\nContact Us\\n\\nTerms of Use\\n\\nPrivacy Policy\\n\\nRSS\\n\\nSitemap\\n\\n© 2024 Tech HindustanTimes\\n\\nhttps://tech.hindustantimes.com/tech/news/samsung-galaxy-s23-ultra-5g-now-available-with-an-enticing-price-cut-on-amazon-71709457508945.html\\n\\nhttps://tech.hindustantimes.com/photos/google-pixel-8-series-clinches-best-smartphone-award-at-mwc-2024-71709210972370.html\\n\\nhttps://tech.hindustantimes.com/tech/news/5-things-about-ai-you-may-have-missed-today-3-6-cr-ai-gaming-accounts-stolen-ai-breakthrough-in-nuclear-fusion-more-71709407274889.html\\n\\nhttps://tech.hindustantimes.com/tech/news/how-this-most-intense-geomagnetic-storm-that-brought-auroras-to-ladakh-was-tracked-by-indian-astronomers-71709385170847.html\")]"
            ]
          },
          "metadata": {},
          "execution_count": 39
        }
      ]
    },
    {
      "cell_type": "code",
      "source": [
        "from getpass import getpass\n",
        "\n",
        "HUGGINGFACEHUB_API_TOKEN = getpass()"
      ],
      "metadata": {
        "colab": {
          "base_uri": "https://localhost:8080/"
        },
        "id": "xP1o5Iks3SqS",
        "outputId": "a9f1008b-7626-4f53-a328-39d044b6be78"
      },
      "execution_count": 17,
      "outputs": [
        {
          "name": "stdout",
          "output_type": "stream",
          "text": [
            "··········\n"
          ]
        }
      ]
    },
    {
      "cell_type": "code",
      "source": [
        "import os\n",
        "\n",
        "os.environ[\"HUGGINGFACEHUB_API_TOKEN\"] = HUGGINGFACEHUB_API_TOKEN"
      ],
      "metadata": {
        "id": "ZXCyzfeG3W4r"
      },
      "execution_count": 18,
      "outputs": []
    },
    {
      "cell_type": "code",
      "source": [
        "template = \"\"\"Create a comprehensive summary covering all aspects for the newspaper. {docs}\n",
        "Provide a concise headline and main news summary.\"\"\"\n",
        "\n",
        "prompt = PromptTemplate.from_template(template)"
      ],
      "metadata": {
        "id": "sNKIWqNs3fYi"
      },
      "execution_count": 42,
      "outputs": []
    },
    {
      "cell_type": "code",
      "source": [
        "repo_id = \"mistralai/Mistral-7B-Instruct-v0.2\"\n",
        "\n",
        "llm = HuggingFaceEndpoint(\n",
        "    repo_id=repo_id, max_length=1024, temperature=0.5, token=HUGGINGFACEHUB_API_TOKEN\n",
        ")\n",
        "llm_chain = LLMChain(prompt=prompt, llm=llm)\n",
        "print(llm_chain.run(docs))"
      ],
      "metadata": {
        "colab": {
          "base_uri": "https://localhost:8080/"
        },
        "id": "H7WnPgSW3vGS",
        "outputId": "0f53e2fc-331f-4c97-a445-195dac196e50"
      },
      "execution_count": 43,
      "outputs": [
        {
          "output_type": "stream",
          "name": "stderr",
          "text": [
            "WARNING:langchain_community.llms.huggingface_endpoint:WARNING! max_length is not default parameter.\n",
            "                    max_length was transferred to model_kwargs.\n",
            "                    Please make sure that max_length is what you intended.\n",
            "WARNING:langchain_community.llms.huggingface_endpoint:WARNING! token is not default parameter.\n",
            "                    token was transferred to model_kwargs.\n",
            "                    Please make sure that token is what you intended.\n"
          ]
        },
        {
          "output_type": "stream",
          "name": "stdout",
          "text": [
            "Token has not been saved to git credential helper. Pass `add_to_git_credential=True` if you want to set the git credential as well.\n",
            "Token is valid (permission: read).\n",
            "Your token has been saved to /root/.cache/huggingface/token\n",
            "Login successful\n",
            "\n",
            "\n",
            "Headline: Samsung Galaxy S23 Ultra 5G Receives Significant Price Cut on Amazon\n",
            "\n",
            "Main Summary: The Samsung Galaxy S23 Ultra 5G, a premium smartphone with impressive features and specifications, has received a substantial price cut on Amazon, making it an attractive option for smartphone enthusiasts. The device is now available for Rs. 1,09,999, down from its original price of Rs. 1,49,999. Customers can also benefit from various offers and discounts, including bank offers, no-cost EMI options, and significant discounts when exchanging their old devices. With its powerful capabilities and attractive price, the Samsung Galaxy S23 Ultra 5G presents an irresistible proposition for those in search of a premium smartphone experience.\n"
          ]
        }
      ]
    },
    {
      "cell_type": "code",
      "source": [],
      "metadata": {
        "id": "63Gw5uu44x1U"
      },
      "execution_count": null,
      "outputs": []
    },
    {
      "cell_type": "code",
      "source": [],
      "metadata": {
        "id": "dkzTmXMx50cn"
      },
      "execution_count": null,
      "outputs": []
    },
    {
      "cell_type": "code",
      "source": [],
      "metadata": {
        "id": "67t_ePB_50Te"
      },
      "execution_count": null,
      "outputs": []
    },
    {
      "cell_type": "code",
      "source": [],
      "metadata": {
        "id": "dY7DQh9O5zQo"
      },
      "execution_count": null,
      "outputs": []
    },
    {
      "cell_type": "code",
      "source": [],
      "metadata": {
        "id": "dyFnXhhl5zNu"
      },
      "execution_count": null,
      "outputs": []
    },
    {
      "cell_type": "code",
      "source": [],
      "metadata": {
        "id": "QuSfVju35zJ8"
      },
      "execution_count": 17,
      "outputs": []
    },
    {
      "cell_type": "code",
      "source": [],
      "metadata": {
        "id": "BmNBhd6P5zIA"
      },
      "execution_count": 28,
      "outputs": []
    },
    {
      "cell_type": "code",
      "source": [],
      "metadata": {
        "id": "m7Z5LhnP5zGV"
      },
      "execution_count": 29,
      "outputs": []
    },
    {
      "cell_type": "code",
      "source": [],
      "metadata": {
        "id": "4pnSbpG46TWg"
      },
      "execution_count": 31,
      "outputs": []
    },
    {
      "cell_type": "code",
      "source": [],
      "metadata": {
        "id": "sDG7D5h15y_f"
      },
      "execution_count": null,
      "outputs": []
    },
    {
      "cell_type": "code",
      "source": [],
      "metadata": {
        "id": "uR_ISKcl5y8-"
      },
      "execution_count": null,
      "outputs": []
    },
    {
      "cell_type": "code",
      "source": [],
      "metadata": {
        "id": "XgnY7UHp5y6f"
      },
      "execution_count": null,
      "outputs": []
    }
  ]
}